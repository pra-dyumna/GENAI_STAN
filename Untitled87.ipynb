{
  "nbformat": 4,
  "nbformat_minor": 0,
  "metadata": {
    "colab": {
      "private_outputs": true,
      "provenance": [],
      "gpuType": "T4",
      "authorship_tag": "ABX9TyNrkE3jNwyuOEQ7DWpbDoMo",
      "include_colab_link": true
    },
    "kernelspec": {
      "name": "python3",
      "display_name": "Python 3"
    },
    "language_info": {
      "name": "python"
    },
    "accelerator": "GPU"
  },
  "cells": [
    {
      "cell_type": "markdown",
      "metadata": {
        "id": "view-in-github",
        "colab_type": "text"
      },
      "source": [
        "<a href=\"https://colab.research.google.com/github/pra-dyumna/GENAI_STAN/blob/main/Untitled87.ipynb\" target=\"_parent\"><img src=\"https://colab.research.google.com/assets/colab-badge.svg\" alt=\"Open In Colab\"/></a>"
      ]
    },
    {
      "cell_type": "code",
      "execution_count": null,
      "metadata": {
        "id": "Wu5ktFT24Vuq"
      },
      "outputs": [],
      "source": [
        "from transformers import BertTokenizer, BertForSequenceClassification\n",
        "from torch.quantization import quantize_dynamic\n",
        "import torch\n",
        "\n",
        "model_name='bert-base-uncased'\n",
        "\n",
        "tokenizer = BertTokenizer.from_pretrained(model_name)\n",
        "model = BertForSequenceClassification.from_pretrained(model_name)\n",
        "\n",
        "model_name='bert-base-uncased'\n",
        "\n",
        "tokenizer = BertTokenizer.from_pretrained(model_name)\n",
        "model = BertForSequenceClassification.from_pretrained(model_name)"
      ]
    },
    {
      "cell_type": "code",
      "source": [
        "text=\"hello! how are you today?\"\n",
        "input= tokenizer(text, return_tensors=\"pt\",truncation=True,max_lenght=512)\n",
        "output = model(**input)"
      ],
      "metadata": {
        "id": "dPZeO91_5f_t"
      },
      "execution_count": null,
      "outputs": []
    },
    {
      "cell_type": "code",
      "source": [
        "with torch.no_grad():\n",
        "  Notquant_output = model(**input)"
      ],
      "metadata": {
        "id": "oa4xpssc6H-t"
      },
      "execution_count": null,
      "outputs": []
    },
    {
      "cell_type": "code",
      "source": [
        "qunatize_model=quantize_dynamic(model,{torch.nn.Linear},dtype=torch.qint8)"
      ],
      "metadata": {
        "id": "xJiyhXSl6TV5"
      },
      "execution_count": null,
      "outputs": []
    },
    {
      "cell_type": "code",
      "source": [
        "with torch.no_grad():\n",
        "  quant_output = qunatize_model(**input)"
      ],
      "metadata": {
        "id": "7txgSpCq6hxB"
      },
      "execution_count": null,
      "outputs": []
    },
    {
      "cell_type": "code",
      "source": [
        "print(Notquant_output.logits)\n",
        "print(quant_output.logits)"
      ],
      "metadata": {
        "id": "1lKu6GPZ6lFU"
      },
      "execution_count": null,
      "outputs": []
    },
    {
      "cell_type": "code",
      "source": [
        "torch.save(qunatize_model.state_dict(), \"qunatized_bert_model.pth\")\n"
      ],
      "metadata": {
        "id": "rYBXd4VW7Q6N"
      },
      "execution_count": null,
      "outputs": []
    },
    {
      "cell_type": "code",
      "source": [
        "#load the quantized model\n",
        "loaded_model = BertForSequenceClassification.from_pretrained(model_name)\n",
        "loaded_model = quantize_dynamic(loaded_model, {torch.nn.Linear}, dtype=torch.qint8)\n",
        "loaded_model.load_state_dict(torch.load(\"qunatized_bert_model.pth\"))"
      ],
      "metadata": {
        "id": "uR7RSFx_7Q5k"
      },
      "execution_count": null,
      "outputs": []
    },
    {
      "cell_type": "code",
      "source": [
        "loaded_model.eval()\n",
        "with torch.no_grad():\n",
        "  loaded_output = loaded_model(**input)\n",
        "\n",
        "print(loaded_output.logits)"
      ],
      "metadata": {
        "id": "9eygu6vC9A6r"
      },
      "execution_count": null,
      "outputs": []
    },
    {
      "cell_type": "code",
      "source": [
        "print(loaded_output)"
      ],
      "metadata": {
        "id": "LWo-Y9fe-OvD"
      },
      "execution_count": null,
      "outputs": []
    }
  ]
}