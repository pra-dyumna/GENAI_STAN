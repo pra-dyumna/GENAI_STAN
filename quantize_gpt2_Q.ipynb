{
  "nbformat": 4,
  "nbformat_minor": 0,
  "metadata": {
    "colab": {
      "private_outputs": true,
      "provenance": [],
      "authorship_tag": "ABX9TyNXkNRicoH8wF243SM4d03W",
      "include_colab_link": true
    },
    "kernelspec": {
      "name": "python3",
      "display_name": "Python 3"
    },
    "language_info": {
      "name": "python"
    }
  },
  "cells": [
    {
      "cell_type": "markdown",
      "metadata": {
        "id": "view-in-github",
        "colab_type": "text"
      },
      "source": [
        "<a href=\"https://colab.research.google.com/github/pra-dyumna/GENAI_STAN/blob/main/quantize_gpt2_Q.ipynb\" target=\"_parent\"><img src=\"https://colab.research.google.com/assets/colab-badge.svg\" alt=\"Open In Colab\"/></a>"
      ]
    },
    {
      "cell_type": "code",
      "execution_count": null,
      "metadata": {
        "id": "VaCALaKG_KYq"
      },
      "outputs": [],
      "source": [
        "from transformers import GPT2LMHeadModel, GPT2Tokenizer\n",
        "import torch\n",
        "import time\n",
        "\n",
        "tokenizer = GPT2Tokenizer.from_pretrained('gpt2')\n",
        "model = GPT2LMHeadModel.from_pretrained('gpt2')\n"
      ]
    },
    {
      "cell_type": "code",
      "source": [
        "model.eval()"
      ],
      "metadata": {
        "id": "3hS2wnBr_x-4"
      },
      "execution_count": null,
      "outputs": []
    },
    {
      "cell_type": "code",
      "source": [
        "text_input=\"The black dog jump over the white cat\"\n",
        "input_ids = tokenizer.encode(text_input, return_tensors='pt')"
      ],
      "metadata": {
        "id": "zlIRbicHCseh"
      },
      "execution_count": null,
      "outputs": []
    },
    {
      "cell_type": "code",
      "source": [
        "strat_time = time.time()\n",
        "with torch.no_grad():\n",
        "    output=model.generate(input_ids, max_length=50)\n",
        "original_duration = time.time() - strat_time\n",
        "original_text = tokenizer.decode(output[0], skip_special_tokens=True)"
      ],
      "metadata": {
        "id": "lPpmRmWECrbz"
      },
      "execution_count": null,
      "outputs": []
    },
    {
      "cell_type": "code",
      "source": [
        "original_text\n"
      ],
      "metadata": {
        "id": "x_0WmBlcESnx"
      },
      "execution_count": null,
      "outputs": []
    },
    {
      "cell_type": "code",
      "source": [
        "#quantized the model\n",
        "original_duration"
      ],
      "metadata": {
        "id": "HVbTDioPEW6c"
      },
      "execution_count": null,
      "outputs": []
    },
    {
      "cell_type": "code",
      "source": [],
      "metadata": {
        "id": "KyDL1WCuKhW8"
      },
      "execution_count": null,
      "outputs": []
    },
    {
      "cell_type": "code",
      "source": [
        "quntized_model = torch.quantization.quantize_dynamic(\n",
        "    model, {torch.nn.Linear}, dtype=torch.qint8\n",
        ")"
      ],
      "metadata": {
        "id": "4-LgLDNPEj9M"
      },
      "execution_count": null,
      "outputs": []
    },
    {
      "cell_type": "code",
      "source": [
        "quntized_model.eval()"
      ],
      "metadata": {
        "id": "aHz-3UXnG0JQ"
      },
      "execution_count": null,
      "outputs": []
    },
    {
      "cell_type": "code",
      "source": [
        "torch.save(quntized_model.state_dict(), 'quntized_model.pt')"
      ],
      "metadata": {
        "id": "GhX5XuK1G4PK"
      },
      "execution_count": null,
      "outputs": []
    },
    {
      "cell_type": "code",
      "source": [
        "strat_time = time.time()\n",
        "with torch.no_grad():\n",
        "    output=model.generate(input_ids, max_length=50)\n",
        "quantize_duration = time.time() - strat_time\n",
        "quantize_text = tokenizer.decode(output[0], skip_special_tokens=True)"
      ],
      "metadata": {
        "id": "Nn25aYmHJTGS"
      },
      "execution_count": null,
      "outputs": []
    },
    {
      "cell_type": "code",
      "source": [
        "quantize_duration"
      ],
      "metadata": {
        "id": "V_pvQJOKJ5Hv"
      },
      "execution_count": null,
      "outputs": []
    },
    {
      "cell_type": "code",
      "source": [
        "quantize_text"
      ],
      "metadata": {
        "id": "FlFMqmweKH1K"
      },
      "execution_count": null,
      "outputs": []
    },
    {
      "cell_type": "code",
      "source": [],
      "metadata": {
        "id": "QE2snultKJvd"
      },
      "execution_count": null,
      "outputs": []
    }
  ]
}